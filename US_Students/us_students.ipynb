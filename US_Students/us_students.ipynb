{
 "cells": [
  {
   "cell_type": "code",
   "execution_count": 1,
   "metadata": {
    "collapsed": false
   },
   "outputs": [
    {
     "name": "stderr",
     "output_type": "stream",
     "text": [
      "C:\\Users\\sadeus\\Anaconda3\\lib\\site-packages\\matplotlib\\__init__.py:872: UserWarning: axes.color_cycle is deprecated and replaced with axes.prop_cycle; please use the latter.\n",
      "  warnings.warn(self.msg_depr % (key, alt_key))\n"
     ]
    }
   ],
   "source": [
    "import pandas as pd\n",
    "import numpy as np\n",
    "from sqlalchemy import create_engine, inspect\n",
    "#import sqlite3\n",
    "import matplotlib.pyplot as plt\n",
    "import seaborn as sns\n",
    "engine = create_engine(\"sqlite:///database.sqlite\")\n",
    "%matplotlib inline"
   ]
  },
  {
   "cell_type": "code",
   "execution_count": null,
   "metadata": {
    "collapsed": false
   },
   "outputs": [],
   "source": [
    "#Get the tables in the database with the columns\n",
    "\n",
    "#conn = sqlite3.connect('database.sqlite')\n",
    "#c = conn.execute(\"SELECT name from sqlite_master where type='table'\")\n",
    "#print(c.fetchone())\n",
    "#conn.close()\n",
    "inspector = inspect(engine)\n",
    "for table_name in inspector.get_table_names():\n",
    "    print(\"Table: {}\".format(table_name))\n",
    "    columns = \"Columns: \"\n",
    "    for x in inspector.get_columns(table_name):\n",
    "        columns += x[\"name\"] + \",\"\n",
    "    print(columns)\n",
    "pd.read_sql_query(\"SELECT DISTINCT count(INSTNM) FROM Scorecard\", engine)"
   ]
  },
  {
   "cell_type": "code",
   "execution_count": 9,
   "metadata": {
    "collapsed": false
   },
   "outputs": [
    {
     "data": {
      "text/html": [
       "<div>\n",
       "<table border=\"1\" class=\"dataframe\">\n",
       "  <thead>\n",
       "    <tr style=\"text-align: right;\">\n",
       "      <th></th>\n",
       "      <th>INSTNM</th>\n",
       "      <th>COSTT4_A</th>\n",
       "      <th>COSTT4_P</th>\n",
       "    </tr>\n",
       "  </thead>\n",
       "  <tbody>\n",
       "    <tr>\n",
       "      <th>61213</th>\n",
       "      <td>Harvard University</td>\n",
       "      <td>NaN</td>\n",
       "      <td>NaN</td>\n",
       "    </tr>\n",
       "    <tr>\n",
       "      <th>64811</th>\n",
       "      <td>Harvard H Ellis Regional Vocational Technical Sch</td>\n",
       "      <td>NaN</td>\n",
       "      <td>NaN</td>\n",
       "    </tr>\n",
       "    <tr>\n",
       "      <th>68014</th>\n",
       "      <td>Harvard University</td>\n",
       "      <td>NaN</td>\n",
       "      <td>NaN</td>\n",
       "    </tr>\n",
       "    <tr>\n",
       "      <th>71571</th>\n",
       "      <td>Harvard H Ellis Regional Vocational Technical Sch</td>\n",
       "      <td>NaN</td>\n",
       "      <td>NaN</td>\n",
       "    </tr>\n",
       "    <tr>\n",
       "      <th>74847</th>\n",
       "      <td>Harvard University</td>\n",
       "      <td>NaN</td>\n",
       "      <td>NaN</td>\n",
       "    </tr>\n",
       "    <tr>\n",
       "      <th>78359</th>\n",
       "      <td>Harvard H Ellis Regional Vocational Technical Sch</td>\n",
       "      <td>NaN</td>\n",
       "      <td>NaN</td>\n",
       "    </tr>\n",
       "    <tr>\n",
       "      <th>81723</th>\n",
       "      <td>Harvard University</td>\n",
       "      <td>NaN</td>\n",
       "      <td>NaN</td>\n",
       "    </tr>\n",
       "    <tr>\n",
       "      <th>85201</th>\n",
       "      <td>Harvard H Ellis Regional Vocational Technical Sch</td>\n",
       "      <td>NaN</td>\n",
       "      <td>NaN</td>\n",
       "    </tr>\n",
       "    <tr>\n",
       "      <th>88678</th>\n",
       "      <td>Harvard University</td>\n",
       "      <td>50250</td>\n",
       "      <td>NaN</td>\n",
       "    </tr>\n",
       "    <tr>\n",
       "      <th>92123</th>\n",
       "      <td>Harvard H Ellis Regional Vocational Technical Sch</td>\n",
       "      <td>NaN</td>\n",
       "      <td>NaN</td>\n",
       "    </tr>\n",
       "    <tr>\n",
       "      <th>95793</th>\n",
       "      <td>Harvard University</td>\n",
       "      <td>52000</td>\n",
       "      <td>NaN</td>\n",
       "    </tr>\n",
       "    <tr>\n",
       "      <th>103191</th>\n",
       "      <td>Harvard University</td>\n",
       "      <td>53950</td>\n",
       "      <td>NaN</td>\n",
       "    </tr>\n",
       "    <tr>\n",
       "      <th>110833</th>\n",
       "      <td>Harvard University</td>\n",
       "      <td>56000</td>\n",
       "      <td>NaN</td>\n",
       "    </tr>\n",
       "    <tr>\n",
       "      <th>118593</th>\n",
       "      <td>Harvard University</td>\n",
       "      <td>57950</td>\n",
       "      <td>NaN</td>\n",
       "    </tr>\n",
       "  </tbody>\n",
       "</table>\n",
       "</div>"
      ],
      "text/plain": [
       "                                                   INSTNM  COSTT4_A  COSTT4_P\n",
       "61213                                  Harvard University       NaN       NaN\n",
       "64811   Harvard H Ellis Regional Vocational Technical Sch       NaN       NaN\n",
       "68014                                  Harvard University       NaN       NaN\n",
       "71571   Harvard H Ellis Regional Vocational Technical Sch       NaN       NaN\n",
       "74847                                  Harvard University       NaN       NaN\n",
       "78359   Harvard H Ellis Regional Vocational Technical Sch       NaN       NaN\n",
       "81723                                  Harvard University       NaN       NaN\n",
       "85201   Harvard H Ellis Regional Vocational Technical Sch       NaN       NaN\n",
       "88678                                  Harvard University     50250       NaN\n",
       "92123   Harvard H Ellis Regional Vocational Technical Sch       NaN       NaN\n",
       "95793                                  Harvard University     52000       NaN\n",
       "103191                                 Harvard University     53950       NaN\n",
       "110833                                 Harvard University     56000       NaN\n",
       "118593                                 Harvard University     57950       NaN"
      ]
     },
     "execution_count": 9,
     "metadata": {},
     "output_type": "execute_result"
    }
   ],
   "source": [
    "\n",
    "#pd.read_sql_query(\"SELECT * FROM Scorecard\", engine)\n",
    "pd.read_sql_query(\"SELECT AVG(COSTT4_A), MIN(COSTT4_A), MAX(COSTT4_A) FROM Scorecard\", engine)\n",
    "df = pd.read_sql_query(\"SELECT INSTNM, COSTT4_P, COSTT4_A, ADM_RATE, PCTFLOAN, PCTPELL FROM Scorecard\", engine)\n",
    "\n",
    "#COSTT4_A ^ COSTT4_P == True?\n",
    "#df.COSTT4_A[df.COSTT4_P.notnull()].notnull().any()\n",
    "df[[\"INSTNM\", \"COSTT4_A\",\"COSTT4_P\"]][df.INSTNM.str.contains(\"Massa\")]"
   ]
  },
  {
   "cell_type": "code",
   "execution_count": null,
   "metadata": {
    "collapsed": true
   },
   "outputs": [],
   "source": []
  }
 ],
 "metadata": {
  "kernelspec": {
   "display_name": "Python 3",
   "language": "python",
   "name": "python3"
  },
  "language_info": {
   "codemirror_mode": {
    "name": "ipython",
    "version": 3
   },
   "file_extension": ".py",
   "mimetype": "text/x-python",
   "name": "python",
   "nbconvert_exporter": "python",
   "pygments_lexer": "ipython3",
   "version": "3.5.0"
  }
 },
 "nbformat": 4,
 "nbformat_minor": 0
}

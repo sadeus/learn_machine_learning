{
 "cells": [
  {
   "cell_type": "code",
   "execution_count": 1,
   "metadata": {
    "collapsed": false
   },
   "outputs": [
    {
     "name": "stderr",
     "output_type": "stream",
     "text": [
      "C:\\Users\\sadeus\\Anaconda3\\lib\\site-packages\\matplotlib\\__init__.py:872: UserWarning: axes.color_cycle is deprecated and replaced with axes.prop_cycle; please use the latter.\n",
      "  warnings.warn(self.msg_depr % (key, alt_key))\n"
     ]
    }
   ],
   "source": [
    "import pandas as pd\n",
    "import numpy as np\n",
    "from sqlalchemy import create_engine, inspect\n",
    "#import sqlite3\n",
    "import matplotlib.pyplot as plt\n",
    "import seaborn as sns\n",
    "engine = create_engine(\"sqlite:///database.sqlite\")\n",
    "%matplotlib inline"
   ]
  },
  {
   "cell_type": "code",
   "execution_count": null,
   "metadata": {
    "collapsed": false
   },
   "outputs": [],
   "source": [
    "#Get the tables in the database with the columns\n",
    "\n",
    "#conn = sqlite3.connect('database.sqlite')\n",
    "#c = conn.execute(\"SELECT name from sqlite_master where type='table'\")\n",
    "#print(c.fetchone())\n",
    "#conn.close()\n",
    "inspector = inspect(engine)\n",
    "for table_name in inspector.get_table_names():\n",
    "    print(\"Table: {}\".format(table_name))\n",
    "    columns = \"Columns: \"\n",
    "    for x in inspector.get_columns(table_name):\n",
    "        columns += x[\"name\"] + \",\"\n",
    "    print(columns)\n",
    "pd.read_sql_query(\"SELECT DISTINCT count(INSTNM) FROM Scorecard\", engine)"
   ]
  },
  {
   "cell_type": "code",
   "execution_count": 4,
   "metadata": {
    "collapsed": false
   },
   "outputs": [
    {
     "data": {
      "text/plain": [
       "INSTNM      niversity of Puerto Rico-Medical Sciences\n",
       "COSTT4_A                                        74473\n",
       "dtype: object"
      ]
     },
     "execution_count": 4,
     "metadata": {},
     "output_type": "execute_result"
    }
   ],
   "source": [
    "\n",
    "#pd.read_sql_query(\"SELECT * FROM Scorecard\", engine)\n",
    "pd.read_sql_query(\"SELECT AVG(COSTT4_A), MIN(COSTT4_A), MAX(COSTT4_A) FROM Scorecard\", engine)\n",
    "df = pd.read_sql_query(\"SELECT INSTNM, COSTT4_P, COSTT4_A, ADM_RATE, PCTFLOAN, PCTPELL FROM Scorecard\", engine)\n",
    "\n",
    "#COSTT4_A ^ COSTT4_P == True?\n",
    "#df.COSTT4_A[df.COSTT4_P.notnull()].notnull().any()\n",
    "df[[\"INSTNM\", \"COSTT4_A\"]].max()"
   ]
  },
  {
   "cell_type": "code",
   "execution_count": null,
   "metadata": {
    "collapsed": true
   },
   "outputs": [],
   "source": []
  }
 ],
 "metadata": {
  "kernelspec": {
   "display_name": "Python 3",
   "language": "python",
   "name": "python3"
  },
  "language_info": {
   "codemirror_mode": {
    "name": "ipython",
    "version": 3
   },
   "file_extension": ".py",
   "mimetype": "text/x-python",
   "name": "python",
   "nbconvert_exporter": "python",
   "pygments_lexer": "ipython3",
   "version": "3.5.0"
  }
 },
 "nbformat": 4,
 "nbformat_minor": 0
}
